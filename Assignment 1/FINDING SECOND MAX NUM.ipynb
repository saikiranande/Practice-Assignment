{
 "cells": [
  {
   "cell_type": "code",
   "execution_count": 2,
   "id": "5250e435",
   "metadata": {},
   "outputs": [
    {
     "name": "stdout",
     "output_type": "stream",
     "text": [
      "6\n",
      "4 9 3  6 8 10 \n",
      "9\n"
     ]
    }
   ],
   "source": [
    "n = int(input())\n",
    "arr = map(int, input().split())\n",
    "print(sorted(list(set(arr)))[-2])"
   ]
  }
 ],
 "metadata": {
  "kernelspec": {
   "display_name": "Python 3 (ipykernel)",
   "language": "python",
   "name": "python3"
  },
  "language_info": {
   "codemirror_mode": {
    "name": "ipython",
    "version": 3
   },
   "file_extension": ".py",
   "mimetype": "text/x-python",
   "name": "python",
   "nbconvert_exporter": "python",
   "pygments_lexer": "ipython3",
   "version": "3.9.7"
  }
 },
 "nbformat": 4,
 "nbformat_minor": 5
}
