{
 "cells": [
  {
   "cell_type": "code",
   "execution_count": 8,
   "id": "99f1b956",
   "metadata": {},
   "outputs": [
    {
     "name": "stdout",
     "output_type": "stream",
     "text": [
      "ABBCA BCA\n"
     ]
    }
   ],
   "source": [
    "def count_substring(string, sub_string):\n",
    "    for i in range(len(string)-len(sub_string)+1):\n",
    "        if (string[i:i+len(sub_string)] == sub_string):\n",
    "                count += 1\n",
    "        return count\n",
    "string = 'ABBCA'\n",
    "sub_string = 'BCA'\n",
    "print(string,sub_string)"
   ]
  },
  {
   "cell_type": "code",
   "execution_count": null,
   "id": "4b4cef5d",
   "metadata": {},
   "outputs": [],
   "source": []
  }
 ],
 "metadata": {
  "kernelspec": {
   "display_name": "Python 3 (ipykernel)",
   "language": "python",
   "name": "python3"
  },
  "language_info": {
   "codemirror_mode": {
    "name": "ipython",
    "version": 3
   },
   "file_extension": ".py",
   "mimetype": "text/x-python",
   "name": "python",
   "nbconvert_exporter": "python",
   "pygments_lexer": "ipython3",
   "version": "3.9.7"
  }
 },
 "nbformat": 4,
 "nbformat_minor": 5
}
